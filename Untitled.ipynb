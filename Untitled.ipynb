{
 "cells": [
  {
   "cell_type": "code",
   "execution_count": 29,
   "metadata": {},
   "outputs": [],
   "source": [
    "import overpy\n",
    "import pandas as pd"
   ]
  },
  {
   "cell_type": "code",
   "execution_count": 92,
   "metadata": {},
   "outputs": [],
   "source": [
    "api = overpy.Overpass()\n",
    "\n",
    "ways = api.query(\"\"\"\n",
    "\n",
    "(\n",
    "  way[\"brand\"='Meridian Credit Union'];\n",
    ");\n",
    "out center;\n",
    "\"\"\")\n",
    "\n",
    "coords = []\n",
    "data = []\n",
    "\n",
    "for i in ways.ways:\n",
    "    coords.append([i.id,i.center_lon,i.center_lat])\n",
    "    data.append(i.tags)\n",
    "    \n",
    "waysdf = pd.concat([pd.DataFrame(coords,columns=['ID','Longitude','Latitude']),pd.DataFrame(data)],axis=1)\n",
    "\n",
    "nodes = api.query(\"\"\"\n",
    "(\n",
    "  node[\"brand\"='Meridian Credit Union'];\n",
    ");\n",
    "out;\n",
    "\"\"\")\n",
    "\n",
    "coords = []\n",
    "data = []\n",
    "\n",
    "for i in nodes.nodes:\n",
    "    coords.append([i.id,i.lon,i.lat])\n",
    "    data.append(i.tags)\n",
    "    \n",
    "nodesdf = pd.concat([pd.DataFrame(coords,columns=['ID','Longitude','Latitude']),pd.DataFrame(data)],axis=1)\n",
    "\n",
    "banks_Ont = pd.concat([nodesdf,waysdf])"
   ]
  },
  {
   "cell_type": "code",
   "execution_count": null,
   "metadata": {},
   "outputs": [],
   "source": []
  },
  {
   "cell_type": "code",
   "execution_count": null,
   "metadata": {},
   "outputs": [],
   "source": []
  },
  {
   "cell_type": "code",
   "execution_count": null,
   "metadata": {},
   "outputs": [],
   "source": []
  }
 ],
 "metadata": {
  "kernelspec": {
   "display_name": "Python 3",
   "language": "python",
   "name": "python3"
  },
  "language_info": {
   "codemirror_mode": {
    "name": "ipython",
    "version": 3
   },
   "file_extension": ".py",
   "mimetype": "text/x-python",
   "name": "python",
   "nbconvert_exporter": "python",
   "pygments_lexer": "ipython3",
   "version": "3.8.1"
  }
 },
 "nbformat": 4,
 "nbformat_minor": 4
}
